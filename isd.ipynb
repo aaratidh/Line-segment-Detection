{
 "cells": [
  {
   "cell_type": "code",
   "execution_count": 9,
   "metadata": {},
   "outputs": [],
   "source": [
    "#LSD: a Line Segment Detector Implementating this paper  by Rafael Grompone von Gioi1, J´er´emie Jakubowicz2, Jean-Michel Morel,\n",
    "#Gregoy Randall4\n",
    "\n",
    "import cv2 \n",
    "#reading Image \n",
    "img = cv2.imread(\"C:\\\\Users\\Hp\\Desktop\\course_Assignment USD\\courseAssignment\\Computer Vision\\dls\\photo1.jpg\")"
   ]
  },
  {
   "cell_type": "code",
   "execution_count": 10,
   "metadata": {},
   "outputs": [],
   "source": [
    "#converting to gray scale \n",
    "img_gray = cv2.cvtColor(img , cv2.COLOR_BGR2GRAY)"
   ]
  },
  {
   "cell_type": "code",
   "execution_count": 13,
   "metadata": {},
   "outputs": [
    {
     "ename": "error",
     "evalue": "OpenCV(4.5.5) D:\\a\\opencv-python\\opencv-python\\opencv\\modules\\imgproc\\src\\color.cpp:182: error: (-215:Assertion failed) !_src.empty() in function 'cv::cvtColor'\n",
     "output_type": "error",
     "traceback": [
      "\u001b[1;31m---------------------------------------------------------------------------\u001b[0m",
      "\u001b[1;31merror\u001b[0m                                     Traceback (most recent call last)",
      "\u001b[1;32m<ipython-input-13-9d4a7041715a>\u001b[0m in \u001b[0;36m<module>\u001b[1;34m\u001b[0m\n\u001b[0;32m     75\u001b[0m   \u001b[1;32mfor\u001b[0m \u001b[0mi\u001b[0m \u001b[1;32min\u001b[0m \u001b[0mrange\u001b[0m\u001b[1;33m(\u001b[0m\u001b[1;36m3\u001b[0m\u001b[1;33m)\u001b[0m\u001b[1;33m:\u001b[0m\u001b[1;33m\u001b[0m\u001b[1;33m\u001b[0m\u001b[0m\n\u001b[0;32m     76\u001b[0m     \u001b[0mimage\u001b[0m \u001b[1;33m=\u001b[0m \u001b[0mcv2\u001b[0m\u001b[1;33m.\u001b[0m\u001b[0mimread\u001b[0m\u001b[1;33m(\u001b[0m\u001b[1;34mf\"sample-{i+1}.png\"\u001b[0m\u001b[1;33m)\u001b[0m\u001b[1;33m\u001b[0m\u001b[1;33m\u001b[0m\u001b[0m\n\u001b[1;32m---> 77\u001b[1;33m     \u001b[0medge_image\u001b[0m \u001b[1;33m=\u001b[0m \u001b[0mcv2\u001b[0m\u001b[1;33m.\u001b[0m\u001b[0mcvtColor\u001b[0m\u001b[1;33m(\u001b[0m\u001b[0mimage\u001b[0m\u001b[1;33m,\u001b[0m \u001b[0mcv2\u001b[0m\u001b[1;33m.\u001b[0m\u001b[0mCOLOR_BGR2GRAY\u001b[0m\u001b[1;33m)\u001b[0m\u001b[1;33m\u001b[0m\u001b[1;33m\u001b[0m\u001b[0m\n\u001b[0m\u001b[0;32m     78\u001b[0m     \u001b[0medge_image\u001b[0m \u001b[1;33m=\u001b[0m \u001b[0mcv2\u001b[0m\u001b[1;33m.\u001b[0m\u001b[0mGaussianBlur\u001b[0m\u001b[1;33m(\u001b[0m\u001b[0medge_image\u001b[0m\u001b[1;33m,\u001b[0m \u001b[1;33m(\u001b[0m\u001b[1;36m3\u001b[0m\u001b[1;33m,\u001b[0m \u001b[1;36m3\u001b[0m\u001b[1;33m)\u001b[0m\u001b[1;33m,\u001b[0m \u001b[1;36m1\u001b[0m\u001b[1;33m)\u001b[0m\u001b[1;33m\u001b[0m\u001b[1;33m\u001b[0m\u001b[0m\n\u001b[0;32m     79\u001b[0m     \u001b[0medge_image\u001b[0m \u001b[1;33m=\u001b[0m \u001b[0mcv2\u001b[0m\u001b[1;33m.\u001b[0m\u001b[0mCanny\u001b[0m\u001b[1;33m(\u001b[0m\u001b[0medge_image\u001b[0m\u001b[1;33m,\u001b[0m \u001b[1;36m100\u001b[0m\u001b[1;33m,\u001b[0m \u001b[1;36m200\u001b[0m\u001b[1;33m)\u001b[0m\u001b[1;33m\u001b[0m\u001b[1;33m\u001b[0m\u001b[0m\n",
      "\u001b[1;31merror\u001b[0m: OpenCV(4.5.5) D:\\a\\opencv-python\\opencv-python\\opencv\\modules\\imgproc\\src\\color.cpp:182: error: (-215:Assertion failed) !_src.empty() in function 'cv::cvtColor'\n"
     ]
    }
   ],
   "source": [
    "import cv2\n",
    "import numpy as np\n",
    "import matplotlib.pyplot as plt\n",
    "import matplotlib.lines as mlines\n",
    "\n",
    "\n",
    "def line_detection_non_vectorized(image, edge_image, num_rhos=180, num_thetas=180, t_count=220):\n",
    "  edge_height, edge_width = edge_image.shape[:2]\n",
    "  edge_height_half, edge_width_half = edge_height / 2, edge_width / 2\n",
    "  #\n",
    "  d = np.sqrt(np.square(edge_height) + np.square(edge_width))\n",
    "  dtheta = 180 / num_thetas\n",
    "  drho = (2 * d) / num_rhos\n",
    "  #\n",
    "  thetas = np.arange(0, 180, step=dtheta)\n",
    "  rhos = np.arange(-d, d, step=drho)\n",
    "  #\n",
    "  cos_thetas = np.cos(np.deg2rad(thetas))\n",
    "  sin_thetas = np.sin(np.deg2rad(thetas))\n",
    "  #\n",
    "  accumulator = np.zeros((len(rhos), len(rhos)))\n",
    "  #\n",
    "  figure = plt.figure(figsize=(12, 12))\n",
    "  subplot1 = figure.add_subplot(1, 4, 1)\n",
    "  subplot1.imshow(image)\n",
    "  subplot2 = figure.add_subplot(1, 4, 2)\n",
    "  subplot2.imshow(edge_image, cmap=\"gray\")\n",
    "  subplot3 = figure.add_subplot(1, 4, 3)\n",
    "  subplot3.set_facecolor((0, 0, 0))\n",
    "  subplot4 = figure.add_subplot(1, 4, 4)\n",
    "  subplot4.imshow(image)\n",
    "  #\n",
    "  for y in range(edge_height):\n",
    "    for x in range(edge_width):\n",
    "      if edge_image[y][x] != 0:\n",
    "        edge_point = [y - edge_height_half, x - edge_width_half]\n",
    "        ys, xs = [], []\n",
    "        for theta_idx in range(len(thetas)):\n",
    "          rho = (edge_point[1] * cos_thetas[theta_idx]) + (edge_point[0] * sin_thetas[theta_idx])\n",
    "          theta = thetas[theta_idx]\n",
    "          rho_idx = np.argmin(np.abs(rhos - rho))\n",
    "          accumulator[rho_idx][theta_idx] += 1\n",
    "          ys.append(rho)\n",
    "          xs.append(theta)\n",
    "        subplot3.plot(xs, ys, color=\"white\", alpha=0.05)\n",
    "\n",
    "  for y in range(accumulator.shape[0]):\n",
    "    for x in range(accumulator.shape[1]):\n",
    "      if accumulator[y][x] > t_count:\n",
    "        rho = rhos[y]\n",
    "        theta = thetas[x]\n",
    "        a = np.cos(np.deg2rad(theta))\n",
    "        b = np.sin(np.deg2rad(theta))\n",
    "        x0 = (a * rho) + edge_width_half\n",
    "        y0 = (b * rho) + edge_height_half\n",
    "        x1 = int(x0 + 1000 * (-b))\n",
    "        y1 = int(y0 + 1000 * (a))\n",
    "        x2 = int(x0 - 1000 * (-b))\n",
    "        y2 = int(y0 - 1000 * (a))\n",
    "        subplot3.plot([theta], [rho], marker='o', color=\"yellow\")\n",
    "        subplot4.add_line(mlines.Line2D([x1, x2], [y1, y2]))\n",
    "\n",
    "  subplot3.invert_yaxis()\n",
    "  subplot3.invert_xaxis()\n",
    "\n",
    "  subplot1.title.set_text(\"Original Image\")\n",
    "  subplot2.title.set_text(\"Edge Image\")\n",
    "  subplot3.title.set_text(\"Hough Space\")\n",
    "  subplot4.title.set_text(\"Detected Lines\")\n",
    "  plt.show()\n",
    "  return accumulator, rhos, thetas\n",
    "\n",
    "\n",
    "if __name__ == \"__main__\":\n",
    "  for i in range(3):\n",
    "    image = cv2.imread(f\"sample-{i+1}.png\")\n",
    "    edge_image = cv2.cvtColor(image, cv2.COLOR_BGR2GRAY)\n",
    "    edge_image = cv2.GaussianBlur(edge_image, (3, 3), 1)\n",
    "    edge_image = cv2.Canny(edge_image, 100, 200)\n",
    "    edge_image = cv2.dilate(\n",
    "        edge_image,\n",
    "        cv2.getStructuringElement(cv2.MORPH_RECT, (5, 5)),\n",
    "        iterations=1\n",
    "    )\n",
    "    edge_image = cv2.erode(\n",
    "        edge_image,\n",
    "        cv2.getStructuringElement(cv2.MORPH_RECT, (5, 5)),\n",
    "        iterations=1\n",
    "    )\n",
    "    line_detection_non_vectorized(image, edge_image)"
   ]
  },
  {
   "cell_type": "code",
   "execution_count": null,
   "metadata": {},
   "outputs": [],
   "source": []
  }
 ],
 "metadata": {
  "kernelspec": {
   "display_name": "Python 3.8.8 ('base')",
   "language": "python",
   "name": "python3"
  },
  "language_info": {
   "codemirror_mode": {
    "name": "ipython",
    "version": 3
   },
   "file_extension": ".py",
   "mimetype": "text/x-python",
   "name": "python",
   "nbconvert_exporter": "python",
   "pygments_lexer": "ipython3",
   "version": "3.8.8"
  },
  "orig_nbformat": 4,
  "vscode": {
   "interpreter": {
    "hash": "b683bd4b87c8b16609ac9a3ef3aab015b96a8503b853fa71d3fe1e7ebcd29d95"
   }
  }
 },
 "nbformat": 4,
 "nbformat_minor": 2
}
